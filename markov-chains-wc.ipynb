{
 "cells": [
  {
   "cell_type": "code",
   "execution_count": 1,
   "metadata": {
    "collapsed": true
   },
   "outputs": [],
   "source": [
    "import numpy as np"
   ]
  },
  {
   "cell_type": "markdown",
   "metadata": {},
   "source": [
    "I want to model the weather. I'll assume that the Markov property applies here, even though that's probably not a very good assumption for us to make.\n",
    "\n",
    "Let $C$ indicate **clear**, $R$ indicate **rainy**, and $S$ indicate **snowy**.\n",
    "\n",
    "- If $X_i=C$, then $\\mathbb{P}(X_{i+1}=C)=0.6$, $\\mathbb{P}(X_{i+1}=R)=0.3$, $\\mathbb{P}(X_{i+1}=S)=0.1$.\n",
    "- If $X_i=R$, then $\\mathbb{P}(X_{i+1}=C)=0.4$, $\\mathbb{P}(X_{i+1}=R)=0.4$, $\\mathbb{P}(X_{i+1}=S)=0.2$.\n",
    "- If $X_i=S$, then $\\mathbb{P}(X_{i+1}=C)=0.3$, $\\mathbb{P}(X_{i+1}=R)=0.3$, $\\mathbb{P}(X_{i+1}=S)=0.4$.\n",
    "\n",
    "We can represent this in a matrix.\n",
    "\n",
    "$$\\begin{equation} \\mathbf{A} = \n",
    "\\left[\\begin{array}{ccc} \n",
    "      0.6 & 0.4 & 0.3\\\\\n",
    "      0.3 & 0.4 & 0.3\\\\\n",
    "      0.1 & 0.2 & 0.4\\\\\n",
    "\\end{array}\\right]\n",
    "\\end{equation}$$\n",
    "\n",
    "The first row and first column represent clear, the second row and column represent rainy, and the third row and column represent snowy."
   ]
  },
  {
   "cell_type": "code",
   "execution_count": 2,
   "metadata": {
    "collapsed": true
   },
   "outputs": [],
   "source": [
    "transition_matrix = np.array([[0.6, 0.4, 0.3],\n",
    "                              [0.3, 0.4, 0.3],\n",
    "                              [0.1, 0.2, 0.4]])"
   ]
  },
  {
   "cell_type": "code",
   "execution_count": 3,
   "metadata": {},
   "outputs": [
    {
     "data": {
      "text/plain": [
       "array([[0.6, 0.4, 0.3],\n",
       "       [0.3, 0.4, 0.3],\n",
       "       [0.1, 0.2, 0.4]])"
      ]
     },
     "execution_count": 3,
     "metadata": {},
     "output_type": "execute_result"
    }
   ],
   "source": [
    "transition_matrix"
   ]
  },
  {
   "cell_type": "markdown",
   "metadata": {},
   "source": [
    "In order to find what the weather is like on day two ($\\mathbf{y}_2$), I need to specify the weather on day 1 ($\\mathbf{y}_1$), then multiply $\\mathbf{A}$ by $\\mathbf{y}_1$."
   ]
  },
  {
   "cell_type": "code",
   "execution_count": 4,
   "metadata": {
    "collapsed": true
   },
   "outputs": [],
   "source": [
    "y_1 = np.array([0, 0, 1]) # Order is [C, R, S]"
   ]
  },
  {
   "cell_type": "code",
   "execution_count": 5,
   "metadata": {},
   "outputs": [
    {
     "data": {
      "text/plain": [
       "array([0, 0, 1])"
      ]
     },
     "execution_count": 5,
     "metadata": {},
     "output_type": "execute_result"
    }
   ],
   "source": [
    "y_1"
   ]
  },
  {
   "cell_type": "code",
   "execution_count": 6,
   "metadata": {
    "collapsed": true
   },
   "outputs": [],
   "source": [
    "y_2 = np.matmul(transition_matrix, y_1)"
   ]
  },
  {
   "cell_type": "code",
   "execution_count": 7,
   "metadata": {},
   "outputs": [
    {
     "data": {
      "text/plain": [
       "array([0.3, 0.3, 0.4])"
      ]
     },
     "execution_count": 7,
     "metadata": {},
     "output_type": "execute_result"
    }
   ],
   "source": [
    "y_2"
   ]
  },
  {
   "cell_type": "markdown",
   "metadata": {},
   "source": [
    "In order to find what the weather is like on day three ($\\mathbf{y}_3$), I need to specify the weather on day 2 ($\\mathbf{y}_2$), then multiply $\\mathbf{A}$ by $\\mathbf{y}_2$."
   ]
  },
  {
   "cell_type": "code",
   "execution_count": 8,
   "metadata": {
    "collapsed": true
   },
   "outputs": [],
   "source": [
    "y_3 = np.matmul(transition_matrix, y_2)"
   ]
  },
  {
   "cell_type": "code",
   "execution_count": 9,
   "metadata": {},
   "outputs": [
    {
     "data": {
      "text/plain": [
       "array([0.42, 0.33, 0.25])"
      ]
     },
     "execution_count": 9,
     "metadata": {},
     "output_type": "execute_result"
    }
   ],
   "source": [
    "y_3"
   ]
  },
  {
   "cell_type": "markdown",
   "metadata": {},
   "source": [
    "We can actually find out the weather on day 3 from just using day 1!\n",
    "\n",
    "$$\n",
    "\\begin{eqnarray*}\n",
    "\\mathbf{y}_3 &=& \\mathbf{A}\\mathbf{y}_2 \\\\\n",
    "\\mathbf{y}_3 &=& \\mathbf{A}(\\mathbf{A}\\mathbf{y}_1) \\\\\n",
    "\\mathbf{y}_3 &=& \\mathbf{A}^2\\mathbf{y}_1 \\\\\n",
    "\\end{eqnarray*}\n",
    "$$"
   ]
  },
  {
   "cell_type": "code",
   "execution_count": 10,
   "metadata": {},
   "outputs": [
    {
     "data": {
      "text/plain": [
       "array([0.42, 0.33, 0.25])"
      ]
     },
     "execution_count": 10,
     "metadata": {},
     "output_type": "execute_result"
    }
   ],
   "source": [
    "np.matmul(np.matmul(transition_matrix,\n",
    "                    transition_matrix), y_1)"
   ]
  },
  {
   "cell_type": "markdown",
   "metadata": {},
   "source": [
    "**What happens if we want to predict 1,000 days from now?**"
   ]
  },
  {
   "cell_type": "code",
   "execution_count": 11,
   "metadata": {
    "collapsed": true
   },
   "outputs": [],
   "source": [
    "def long_run(A, num_steps, first_state):\n",
    "    A_power = np.linalg.matrix_power(A, num_steps)\n",
    "    return np.matmul(A_power, first_state)"
   ]
  },
  {
   "cell_type": "code",
   "execution_count": 12,
   "metadata": {},
   "outputs": [
    {
     "data": {
      "text/plain": [
       "array([0.47619048, 0.33333333, 0.19047619])"
      ]
     },
     "execution_count": 12,
     "metadata": {},
     "output_type": "execute_result"
    }
   ],
   "source": [
    "long_run(transition_matrix, 1000, y_1)"
   ]
  },
  {
   "cell_type": "markdown",
   "metadata": {},
   "source": [
    "**What about 10,000?**"
   ]
  },
  {
   "cell_type": "code",
   "execution_count": 13,
   "metadata": {},
   "outputs": [
    {
     "data": {
      "text/plain": [
       "array([0.47619048, 0.33333333, 0.19047619])"
      ]
     },
     "execution_count": 13,
     "metadata": {},
     "output_type": "execute_result"
    }
   ],
   "source": [
    "long_run(transition_matrix, 10000, y_1)"
   ]
  },
  {
   "cell_type": "markdown",
   "metadata": {},
   "source": [
    "**Note:** Markov chains, under pretty weak assumptions, will converge to some long-run behavior. (This is really good for MCMC.)"
   ]
  },
  {
   "cell_type": "markdown",
   "metadata": {},
   "source": [
    "**What happens if it's not snowy on day 1? How does this affect that long-run behavior?**"
   ]
  },
  {
   "cell_type": "code",
   "execution_count": 14,
   "metadata": {
    "collapsed": true
   },
   "outputs": [],
   "source": [
    "y_1 = np.array([0.5, 0.5, 0])"
   ]
  },
  {
   "cell_type": "code",
   "execution_count": 15,
   "metadata": {},
   "outputs": [
    {
     "data": {
      "text/plain": [
       "array([0.47619048, 0.33333333, 0.19047619])"
      ]
     },
     "execution_count": 15,
     "metadata": {},
     "output_type": "execute_result"
    }
   ],
   "source": [
    "long_run(transition_matrix, 1000, y_1)"
   ]
  },
  {
   "cell_type": "markdown",
   "metadata": {},
   "source": [
    "**Note:** Markov chains, under pretty weak assumptions, will converge to some long-run behavior **independent of the starting point!** (This is *exceptionally* good for MCMC.)"
   ]
  },
  {
   "cell_type": "markdown",
   "metadata": {},
   "source": [
    "**In this case, starting point does NOT mean prior. Starting point means the point where we start our random Monte Carlo sampling.**"
   ]
  }
 ],
 "metadata": {
  "kernelspec": {
   "display_name": "Python 3",
   "language": "python",
   "name": "python3"
  },
  "language_info": {
   "codemirror_mode": {
    "name": "ipython",
    "version": 3
   },
   "file_extension": ".py",
   "mimetype": "text/x-python",
   "name": "python",
   "nbconvert_exporter": "python",
   "pygments_lexer": "ipython3",
   "version": "3.5.4"
  }
 },
 "nbformat": 4,
 "nbformat_minor": 2
}
